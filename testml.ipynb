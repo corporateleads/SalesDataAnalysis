{
 "cells": [
  {
   "cell_type": "code",
   "execution_count": 2,
   "id": "8d9549fd-2365-4c46-beb6-a6a730ad977f",
   "metadata": {},
   "outputs": [
    {
     "name": "stdout",
     "output_type": "stream",
     "text": [
      "Mean Absolute Error (MAE): 55.97058823529102\n",
      "R^2 Score: 0.889988013318543\n",
      "    Actual Sales  Predicted Sales\n",
      "0            700       656.058824\n",
      "17           600       507.764706\n",
      "15           950       894.058824\n",
      "1            450       481.764706\n"
     ]
    }
   ],
   "source": [
    "import pandas as pd\n",
    "from sklearn.model_selection import train_test_split\n",
    "from sklearn.linear_model import LinearRegression\n",
    "from sklearn.preprocessing import OneHotEncoder\n",
    "from sklearn.metrics import mean_absolute_error, r2_score\n",
    "\n",
    "# Sample dataset\n",
    "data = pd.DataFrame({\n",
    "    'Region': ['North', 'South', 'East', 'West', 'North', 'South', 'East', 'West', 'North', 'South', \n",
    "               'East', 'West', 'North', 'South', 'East', 'West', 'North', 'South', 'East', 'West'],\n",
    "    'Sales Rep': ['Alice', 'Bob', 'Carol', 'David', 'Eve', 'Alice', 'Bob', 'Carol', 'David', 'Eve',\n",
    "                  'Alice', 'Bob', 'Carol', 'David', 'Eve', 'Alice', 'Bob', 'Carol', 'David', 'Eve'],\n",
    "    'Customer': ['ExcelIsFun Corp', 'Tech Supplies Inc.', 'OfficeMart', 'AllThingsShop', 'BizWorks'] * 4,\n",
    "    'Product': ['Widget A', 'Widget B', 'Widget C', 'Widget D', 'Widget E'] * 4,\n",
    "    'COGS': [500, 300, 400, 250, 350, 600, 400, 300, 200, 350, 550, 450, 500, 400, 300, 700, 300, 350, 400, 250],\n",
    "    'Sales': [700, 450, 600, 350, 500, 800, 700, 450, 300, 500, 750, 600, 700, 550, 400, 950, 500, 600, 700, 400]\n",
    "})\n",
    "\n",
    "# One-hot encode categorical variables\n",
    "encoder = OneHotEncoder(sparse_output=False, drop='first')\n",
    "encoded_features = encoder.fit_transform(data[['Region', 'Sales Rep', 'Customer', 'Product']])\n",
    "encoded_columns = encoder.get_feature_names_out(['Region', 'Sales Rep', 'Customer', 'Product'])\n",
    "encoded_df = pd.DataFrame(encoded_features, columns=encoded_columns)\n",
    "\n",
    "# Combine encoded features with numerical data\n",
    "final_data = pd.concat([encoded_df, data[['COGS', 'Sales']].reset_index(drop=True)], axis=1)\n",
    "\n",
    "# Define features (X) and target (y)\n",
    "X = final_data.drop(columns=['Sales'])\n",
    "y = final_data['Sales']\n",
    "\n",
    "# Train-test split\n",
    "X_train, X_test, y_train, y_test = train_test_split(X, y, test_size=0.2, random_state=42)\n",
    "\n",
    "# Train the model\n",
    "model = LinearRegression()\n",
    "model.fit(X_train, y_train)\n",
    "\n",
    "# Predict on the test set\n",
    "y_pred = model.predict(X_test)\n",
    "\n",
    "# Evaluate the model\n",
    "mae = mean_absolute_error(y_test, y_pred)\n",
    "r2 = r2_score(y_test, y_pred)\n",
    "\n",
    "# Print results\n",
    "print(\"Mean Absolute Error (MAE):\", mae)\n",
    "print(\"R^2 Score:\", r2)\n",
    "\n",
    "# Optional: Display predictions alongside actual values\n",
    "predictions = pd.DataFrame({\n",
    "    'Actual Sales': y_test,\n",
    "    'Predicted Sales': y_pred\n",
    "})\n",
    "print(predictions)\n"
   ]
  },
  {
   "cell_type": "code",
   "execution_count": null,
   "id": "ea9ca248-4a07-4db6-ab9e-a2125b7e8f9a",
   "metadata": {},
   "outputs": [],
   "source": []
  }
 ],
 "metadata": {
  "kernelspec": {
   "display_name": "Python 3 (ipykernel)",
   "language": "python",
   "name": "python3"
  },
  "language_info": {
   "codemirror_mode": {
    "name": "ipython",
    "version": 3
   },
   "file_extension": ".py",
   "mimetype": "text/x-python",
   "name": "python",
   "nbconvert_exporter": "python",
   "pygments_lexer": "ipython3",
   "version": "3.13.1"
  }
 },
 "nbformat": 4,
 "nbformat_minor": 5
}
